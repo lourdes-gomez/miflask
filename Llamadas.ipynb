{
 "cells": [
  {
   "cell_type": "code",
   "execution_count": 4,
   "metadata": {},
   "outputs": [],
   "source": [
    "from datetime import datetime\n",
    "import pandas as pd"
   ]
  },
  {
   "cell_type": "code",
   "execution_count": 16,
   "metadata": {},
   "outputs": [
    {
     "name": "stdout",
     "output_type": "stream",
     "text": [
      "[3]\n"
     ]
    }
   ],
   "source": [
    "import requests\n",
    "import json\n",
    "\n",
    "url = \"http://127.0.0.1:5000/api/v0/predict\"\n",
    "\n",
    "payload = json.dumps({\n",
    "    \"edad\" : 22,\n",
    "    \"genero\" : 0,  #0 hombre 1 mujer\n",
    "    \"altura\" : 173,\n",
    "    \"peso\" : 69,\n",
    "    \"grasa\" : 10,\n",
    "    \"diastol\" : 6,\n",
    "    \"sistol\" : 12,\n",
    "    \"bend\" : 25\n",
    "})\n",
    "\n",
    "headers = {'Content-Type': 'application/json'}\n",
    "\n",
    "response = requests.request(\"POST\", url, headers=headers, data=payload)\n",
    "\n",
    "print(response.text)\n"
   ]
  },
  {
   "cell_type": "code",
   "execution_count": 17,
   "metadata": {},
   "outputs": [
    {
     "name": "stdout",
     "output_type": "stream",
     "text": [
      "[\n",
      "  {\n",
      "    \"Fecha\": \"Sat, 09 Dec 2023 18:21:11 GMT\",\n",
      "    \"Inputs\": \"[55, 0, 182, 91, 23, 6, 10, 19]\",\n",
      "    \"Predictions\": 2.0\n",
      "  },\n",
      "  {\n",
      "    \"Fecha\": \"Sat, 09 Dec 2023 18:21:31 GMT\",\n",
      "    \"Inputs\": \"[33, 1, 167, 62, 22, 6, 11, 19]\",\n",
      "    \"Predictions\": 2.0\n",
      "  },\n",
      "  {\n",
      "    \"Fecha\": \"Sat, 09 Dec 2023 18:21:56 GMT\",\n",
      "    \"Inputs\": \"[48, 0, 181, 85, 18, 8, 13, 16]\",\n",
      "    \"Predictions\": 2.0\n",
      "  },\n",
      "  {\n",
      "    \"Fecha\": \"Sat, 09 Dec 2023 18:22:18 GMT\",\n",
      "    \"Inputs\": \"[52, 0, 184, 94, 22, 8, 14, 22]\",\n",
      "    \"Predictions\": 2.0\n",
      "  },\n",
      "  {\n",
      "    \"Fecha\": \"Sat, 09 Dec 2023 18:22:40 GMT\",\n",
      "    \"Inputs\": \"[21, 1, 169, 55, 16, 5, 12, 24]\",\n",
      "    \"Predictions\": 3.0\n",
      "  },\n",
      "  {\n",
      "    \"Fecha\": \"Sat, 09 Dec 2023 20:04:01 GMT\",\n",
      "    \"Inputs\": \"[49, 0, 174, 77, 33, 10, 12, 23]\",\n",
      "    \"Predictions\": 2.0\n",
      "  },\n",
      "  {\n",
      "    \"Fecha\": \"Sat, 09 Dec 2023 20:04:30 GMT\",\n",
      "    \"Inputs\": \"[28, 1, 169, 55, 17, 7, 12, 29]\",\n",
      "    \"Predictions\": 3.0\n",
      "  },\n",
      "  {\n",
      "    \"Fecha\": \"Sat, 09 Dec 2023 20:12:51 GMT\",\n",
      "    \"Inputs\": \"[22, 0, 173, 69, 10, 6, 12, 25]\",\n",
      "    \"Predictions\": 3.0\n",
      "  }\n",
      "]\n",
      "\n"
     ]
    }
   ],
   "source": [
    "import requests\n",
    "import json\n",
    "\n",
    "url = \"http://127.0.0.1:5000/api/v0/consult\"\n",
    "\n",
    "\n",
    "params = {\n",
    "    \"start\" : '2023-12-07 00:00:00',\n",
    "    \"end\" : '2023-12-10 00:00:00'\n",
    "}\n",
    "\n",
    "headers = {'Content-Type': 'application/json'}\n",
    "\n",
    "response = requests.get(url, headers=headers, params=params)\n",
    "\n",
    "print(response.text)"
   ]
  }
 ],
 "metadata": {
  "kernelspec": {
   "display_name": "envmodel",
   "language": "python",
   "name": "python3"
  },
  "language_info": {
   "codemirror_mode": {
    "name": "ipython",
    "version": 3
   },
   "file_extension": ".py",
   "mimetype": "text/x-python",
   "name": "python",
   "nbconvert_exporter": "python",
   "pygments_lexer": "ipython3",
   "version": "3.11.4"
  }
 },
 "nbformat": 4,
 "nbformat_minor": 2
}
